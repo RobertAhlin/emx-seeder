{
 "cells": [
  {
   "cell_type": "markdown",
   "id": "ce2f1f03-9e14-46e1-be97-cb7294620258",
   "metadata": {},
   "source": [
    "Collect data from the website \"live.emx-timing.se\".\n",
    "Data will be collected from six urls = six different competitions in the same cup."
   ]
  },
  {
   "cell_type": "markdown",
   "id": "4c02b989-7105-42d8-85d6-250c34a6bee6",
   "metadata": {},
   "source": [
    "Starting by importing Pandas"
   ]
  },
  {
   "cell_type": "code",
   "execution_count": 2,
   "id": "693faca6-d73e-4416-9b15-6781cc86268d",
   "metadata": {},
   "outputs": [],
   "source": [
    "import pandas as pd"
   ]
  },
  {
   "cell_type": "markdown",
   "id": "27e4c900-12a8-409e-8589-56d10a28959b",
   "metadata": {},
   "source": [
    "Install librarys"
   ]
  },
  {
   "cell_type": "code",
   "execution_count": 4,
   "id": "9bbadf4b-96c0-4573-8a33-a2b75d64c1ad",
   "metadata": {},
   "outputs": [
    {
     "name": "stdout",
     "output_type": "stream",
     "text": [
      "Defaulting to user installation because normal site-packages is not writeable\n",
      "Collecting lxml\n",
      "  Obtaining dependency information for lxml from https://files.pythonhosted.org/packages/3c/d2/11533f0bc47ff4d828a20cfb702f3453fe714bd5b475fcdc8cec6e6b7dcf/lxml-4.9.3-cp310-cp310-manylinux_2_28_x86_64.whl.metadata\n",
      "  Downloading lxml-4.9.3-cp310-cp310-manylinux_2_28_x86_64.whl.metadata (3.8 kB)\n",
      "Downloading lxml-4.9.3-cp310-cp310-manylinux_2_28_x86_64.whl (7.9 MB)\n",
      "\u001b[2K   \u001b[90m━━━━━━━━━━━━━━━━━━━━━━━━━━━━━━━━━━━━━━━━\u001b[0m \u001b[32m7.9/7.9 MB\u001b[0m \u001b[31m16.7 MB/s\u001b[0m eta \u001b[36m0:00:00\u001b[0m00:01\u001b[0m00:01\u001b[0m\n",
      "\u001b[?25hInstalling collected packages: lxml\n",
      "Successfully installed lxml-4.9.3\n",
      "\n",
      "\u001b[1m[\u001b[0m\u001b[34;49mnotice\u001b[0m\u001b[1;39;49m]\u001b[0m\u001b[39;49m A new release of pip is available: \u001b[0m\u001b[31;49m23.2.1\u001b[0m\u001b[39;49m -> \u001b[0m\u001b[32;49m23.3.1\u001b[0m\n",
      "\u001b[1m[\u001b[0m\u001b[34;49mnotice\u001b[0m\u001b[1;39;49m]\u001b[0m\u001b[39;49m To update, run: \u001b[0m\u001b[32;49mpython -m pip install --upgrade pip\u001b[0m\n"
     ]
    }
   ],
   "source": [
    "!pip install lxml"
   ]
  },
  {
   "cell_type": "markdown",
   "id": "65e884f3-4fb5-4032-bffa-b217a39444df",
   "metadata": {},
   "source": [
    "Getting Data from the first page."
   ]
  },
  {
   "cell_type": "code",
   "execution_count": 5,
   "id": "bd6a24b6-ee54-4646-ad6a-531debdce69c",
   "metadata": {},
   "outputs": [],
   "source": [
    "url = \"https://live.emx-timing.se/result/tidaholms_mk/vintercupen_2023_-_2_6_-_heat_2\"\n",
    "tables = pd.read_html(url)"
   ]
  },
  {
   "cell_type": "markdown",
   "id": "c5546d23-fe71-42a2-9493-222ceb5c12cb",
   "metadata": {},
   "source": [
    "First dispaly data to make sure collection of data is correct."
   ]
  },
  {
   "cell_type": "code",
   "execution_count": null,
   "id": "be285378-3dfc-49c4-b2ca-a142eb1f2cdf",
   "metadata": {},
   "outputs": [],
   "source": [
    "display(tables[0])"
   ]
  },
  {
   "cell_type": "markdown",
   "id": "1ef09e82-2939-49d6-a7ba-1e4326308103",
   "metadata": {},
   "source": [
    "Save data to a CSV"
   ]
  },
  {
   "cell_type": "code",
   "execution_count": null,
   "id": "3f6aa11b-abc3-410e-8688-73ac5117d528",
   "metadata": {},
   "outputs": [],
   "source": [
    "tables[0].to_csv(\"1.csv\", index=False)"
   ]
  }
 ],
 "metadata": {
  "kernelspec": {
   "display_name": "Python 3 (ipykernel)",
   "language": "python",
   "name": "python3"
  },
  "language_info": {
   "codemirror_mode": {
    "name": "ipython",
    "version": 3
   },
   "file_extension": ".py",
   "mimetype": "text/x-python",
   "name": "python",
   "nbconvert_exporter": "python",
   "pygments_lexer": "ipython3",
   "version": "3.10.6"
  }
 },
 "nbformat": 4,
 "nbformat_minor": 5
}
